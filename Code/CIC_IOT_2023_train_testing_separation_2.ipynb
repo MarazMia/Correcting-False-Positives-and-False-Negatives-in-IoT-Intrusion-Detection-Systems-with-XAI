{
 "cells": [
  {
   "cell_type": "code",
   "execution_count": 1,
   "metadata": {},
   "outputs": [],
   "source": [
    "import pandas as pd\n",
    "from sklearn import metrics\n",
    "import glob\n",
    "from sklearn.model_selection import train_test_split"
   ]
  },
  {
   "cell_type": "code",
   "execution_count": 2,
   "metadata": {},
   "outputs": [],
   "source": [
    "path = '../Dataset/CICIoT2023/'\n",
    "# data = pd.read_csv(path+'part-00000-363d1ba3-8ab5-4f96-bc25-4d5862db7cb9-c000.csv')\n",
    "data = pd.concat([pd.read_csv(f) for f in glob.glob(path+'*.csv')])"
   ]
  },
  {
   "cell_type": "code",
   "execution_count": 5,
   "metadata": {},
   "outputs": [
    {
     "data": {
      "text/html": [
       "<div>\n",
       "<style scoped>\n",
       "    .dataframe tbody tr th:only-of-type {\n",
       "        vertical-align: middle;\n",
       "    }\n",
       "\n",
       "    .dataframe tbody tr th {\n",
       "        vertical-align: top;\n",
       "    }\n",
       "\n",
       "    .dataframe thead th {\n",
       "        text-align: right;\n",
       "    }\n",
       "</style>\n",
       "<table border=\"1\" class=\"dataframe\">\n",
       "  <thead>\n",
       "    <tr style=\"text-align: right;\">\n",
       "      <th></th>\n",
       "      <th>flow_duration</th>\n",
       "      <th>Header_Length</th>\n",
       "      <th>Protocol Type</th>\n",
       "      <th>Duration</th>\n",
       "      <th>Rate</th>\n",
       "      <th>Srate</th>\n",
       "      <th>Drate</th>\n",
       "      <th>fin_flag_number</th>\n",
       "      <th>syn_flag_number</th>\n",
       "      <th>rst_flag_number</th>\n",
       "      <th>...</th>\n",
       "      <th>Std</th>\n",
       "      <th>Tot size</th>\n",
       "      <th>IAT</th>\n",
       "      <th>Number</th>\n",
       "      <th>Magnitue</th>\n",
       "      <th>Radius</th>\n",
       "      <th>Covariance</th>\n",
       "      <th>Variance</th>\n",
       "      <th>Weight</th>\n",
       "      <th>label</th>\n",
       "    </tr>\n",
       "  </thead>\n",
       "  <tbody>\n",
       "    <tr>\n",
       "      <th>0</th>\n",
       "      <td>0.000000</td>\n",
       "      <td>54.00</td>\n",
       "      <td>6.00</td>\n",
       "      <td>64.00</td>\n",
       "      <td>0.329807</td>\n",
       "      <td>0.329807</td>\n",
       "      <td>0.0</td>\n",
       "      <td>1.0</td>\n",
       "      <td>0.0</td>\n",
       "      <td>1.0</td>\n",
       "      <td>...</td>\n",
       "      <td>0.000000</td>\n",
       "      <td>54.00</td>\n",
       "      <td>8.334383e+07</td>\n",
       "      <td>9.5</td>\n",
       "      <td>10.392305</td>\n",
       "      <td>0.000000</td>\n",
       "      <td>0.000000</td>\n",
       "      <td>0.00</td>\n",
       "      <td>141.55</td>\n",
       "      <td>DDoS-RSTFINFlood</td>\n",
       "    </tr>\n",
       "    <tr>\n",
       "      <th>1</th>\n",
       "      <td>0.000000</td>\n",
       "      <td>57.04</td>\n",
       "      <td>6.33</td>\n",
       "      <td>64.00</td>\n",
       "      <td>4.290556</td>\n",
       "      <td>4.290556</td>\n",
       "      <td>0.0</td>\n",
       "      <td>0.0</td>\n",
       "      <td>0.0</td>\n",
       "      <td>0.0</td>\n",
       "      <td>...</td>\n",
       "      <td>2.822973</td>\n",
       "      <td>57.04</td>\n",
       "      <td>8.292607e+07</td>\n",
       "      <td>9.5</td>\n",
       "      <td>10.464666</td>\n",
       "      <td>4.010353</td>\n",
       "      <td>160.987842</td>\n",
       "      <td>0.05</td>\n",
       "      <td>141.55</td>\n",
       "      <td>DoS-TCP_Flood</td>\n",
       "    </tr>\n",
       "    <tr>\n",
       "      <th>2</th>\n",
       "      <td>0.000000</td>\n",
       "      <td>0.00</td>\n",
       "      <td>1.00</td>\n",
       "      <td>64.00</td>\n",
       "      <td>33.396799</td>\n",
       "      <td>33.396799</td>\n",
       "      <td>0.0</td>\n",
       "      <td>0.0</td>\n",
       "      <td>0.0</td>\n",
       "      <td>0.0</td>\n",
       "      <td>...</td>\n",
       "      <td>0.000000</td>\n",
       "      <td>42.00</td>\n",
       "      <td>8.312799e+07</td>\n",
       "      <td>9.5</td>\n",
       "      <td>9.165151</td>\n",
       "      <td>0.000000</td>\n",
       "      <td>0.000000</td>\n",
       "      <td>0.00</td>\n",
       "      <td>141.55</td>\n",
       "      <td>DDoS-ICMP_Flood</td>\n",
       "    </tr>\n",
       "    <tr>\n",
       "      <th>3</th>\n",
       "      <td>0.328175</td>\n",
       "      <td>76175.00</td>\n",
       "      <td>17.00</td>\n",
       "      <td>64.00</td>\n",
       "      <td>4642.133010</td>\n",
       "      <td>4642.133010</td>\n",
       "      <td>0.0</td>\n",
       "      <td>0.0</td>\n",
       "      <td>0.0</td>\n",
       "      <td>0.0</td>\n",
       "      <td>...</td>\n",
       "      <td>0.000000</td>\n",
       "      <td>50.00</td>\n",
       "      <td>8.301570e+07</td>\n",
       "      <td>9.5</td>\n",
       "      <td>10.000000</td>\n",
       "      <td>0.000000</td>\n",
       "      <td>0.000000</td>\n",
       "      <td>0.00</td>\n",
       "      <td>141.55</td>\n",
       "      <td>DoS-UDP_Flood</td>\n",
       "    </tr>\n",
       "    <tr>\n",
       "      <th>4</th>\n",
       "      <td>0.117320</td>\n",
       "      <td>101.73</td>\n",
       "      <td>6.11</td>\n",
       "      <td>65.91</td>\n",
       "      <td>6.202211</td>\n",
       "      <td>6.202211</td>\n",
       "      <td>0.0</td>\n",
       "      <td>0.0</td>\n",
       "      <td>1.0</td>\n",
       "      <td>0.0</td>\n",
       "      <td>...</td>\n",
       "      <td>23.113111</td>\n",
       "      <td>57.88</td>\n",
       "      <td>8.297300e+07</td>\n",
       "      <td>9.5</td>\n",
       "      <td>11.346876</td>\n",
       "      <td>32.716243</td>\n",
       "      <td>3016.808286</td>\n",
       "      <td>0.19</td>\n",
       "      <td>141.55</td>\n",
       "      <td>DoS-SYN_Flood</td>\n",
       "    </tr>\n",
       "  </tbody>\n",
       "</table>\n",
       "<p>5 rows × 47 columns</p>\n",
       "</div>"
      ],
      "text/plain": [
       "   flow_duration  Header_Length  Protocol Type  Duration         Rate  \\\n",
       "0       0.000000          54.00           6.00     64.00     0.329807   \n",
       "1       0.000000          57.04           6.33     64.00     4.290556   \n",
       "2       0.000000           0.00           1.00     64.00    33.396799   \n",
       "3       0.328175       76175.00          17.00     64.00  4642.133010   \n",
       "4       0.117320         101.73           6.11     65.91     6.202211   \n",
       "\n",
       "         Srate  Drate  fin_flag_number  syn_flag_number  rst_flag_number  ...  \\\n",
       "0     0.329807    0.0              1.0              0.0              1.0  ...   \n",
       "1     4.290556    0.0              0.0              0.0              0.0  ...   \n",
       "2    33.396799    0.0              0.0              0.0              0.0  ...   \n",
       "3  4642.133010    0.0              0.0              0.0              0.0  ...   \n",
       "4     6.202211    0.0              0.0              1.0              0.0  ...   \n",
       "\n",
       "         Std  Tot size           IAT  Number   Magnitue     Radius  \\\n",
       "0   0.000000     54.00  8.334383e+07     9.5  10.392305   0.000000   \n",
       "1   2.822973     57.04  8.292607e+07     9.5  10.464666   4.010353   \n",
       "2   0.000000     42.00  8.312799e+07     9.5   9.165151   0.000000   \n",
       "3   0.000000     50.00  8.301570e+07     9.5  10.000000   0.000000   \n",
       "4  23.113111     57.88  8.297300e+07     9.5  11.346876  32.716243   \n",
       "\n",
       "    Covariance  Variance  Weight             label  \n",
       "0     0.000000      0.00  141.55  DDoS-RSTFINFlood  \n",
       "1   160.987842      0.05  141.55     DoS-TCP_Flood  \n",
       "2     0.000000      0.00  141.55   DDoS-ICMP_Flood  \n",
       "3     0.000000      0.00  141.55     DoS-UDP_Flood  \n",
       "4  3016.808286      0.19  141.55     DoS-SYN_Flood  \n",
       "\n",
       "[5 rows x 47 columns]"
      ]
     },
     "execution_count": 5,
     "metadata": {},
     "output_type": "execute_result"
    }
   ],
   "source": [
    "data.head(5)"
   ]
  },
  {
   "cell_type": "code",
   "execution_count": 6,
   "metadata": {},
   "outputs": [],
   "source": [
    "category_dict = {\n",
    "        'DDoS-ACK_Fragmentation' : 1,\n",
    "        'DDoS-HTTP_Flood' : 1,\n",
    "        'DDoS-ICMP_Flood': 1,\n",
    "        'DDoS-PSHACK_Flood': 1,\n",
    "        'DDoS-RSTFINFlood': 1,\n",
    "        'DDoS-SYN_Flood': 1,\n",
    "        'DDoS-SlowLoris': 1,\n",
    "        'DDoS-SynonymousIP_Flood': 1,\n",
    "        'DDoS-TCP_Flood': 1,\n",
    "        'DDoS-UDP_Flood': 1,\n",
    "        'DDoS-UDP_Fragmentation': 1,\n",
    "        'DDoS-ICMP_Fragmentation' : 1,\n",
    "\n",
    "        'DoS-HTTP_Flood' : 1,\n",
    "        'DoS-SYN_Flood' : 1,\n",
    "        'DoS-TCP_Flood' : 1,\n",
    "        'DoS-UDP_Flood' : 1,\n",
    "\n",
    "        'DictionaryBruteForce' : 1,\n",
    "\n",
    "        'MITM-ArpSpoofing' : 1,\n",
    "        'DNS_Spoofing' : 1,\n",
    "\n",
    "        'Recon-HostDiscovery' : 1,\n",
    "        'Recon-OSScan' : 1,\n",
    "        'Recon-PingSweep' : 1,\n",
    "        'Recon-PortScan' : 1,\n",
    "        'VulnerabilityScan' : 1,\n",
    "\n",
    "        'SqlInjection' : 1,\n",
    "        'CommandInjection' : 1,\n",
    "        'Backdoor_Malware' : 1,\n",
    "        'Uploading_Attack' : 1,\n",
    "        'XSS' : 1,\n",
    "        'BrowserHijacking' : 1,\n",
    "\n",
    "        'Mirai-greeth_flood' : 1,\n",
    "        'Mirai-greip_flood' : 1,\n",
    "        'Mirai-udpplain' : 1,\n",
    "\n",
    "        'BenignTraffic' : 0\n",
    "    }"
   ]
  },
  {
   "cell_type": "code",
   "execution_count": 7,
   "metadata": {},
   "outputs": [],
   "source": [
    "data['label'] = data['label'].map(category_dict)"
   ]
  },
  {
   "cell_type": "code",
   "execution_count": 4,
   "metadata": {},
   "outputs": [],
   "source": [
    "import xgboost\n",
    "xgb_model = xgboost.XGBClassifier(objective='binary:logistic', verbosity=2, n_estimators=100, max_depth=5)"
   ]
  },
  {
   "cell_type": "code",
   "execution_count": 8,
   "metadata": {},
   "outputs": [
    {
     "data": {
      "text/plain": [
       "label\n",
       "1    45588384\n",
       "0     1098195\n",
       "Name: count, dtype: int64"
      ]
     },
     "execution_count": 8,
     "metadata": {},
     "output_type": "execute_result"
    }
   ],
   "source": [
    "data.label.value_counts()"
   ]
  },
  {
   "cell_type": "code",
   "execution_count": 9,
   "metadata": {},
   "outputs": [],
   "source": [
    "X, y = data[data.columns[:-1]], data.label"
   ]
  },
  {
   "cell_type": "code",
   "execution_count": 10,
   "metadata": {},
   "outputs": [],
   "source": [
    "from sklearn.model_selection import StratifiedKFold, cross_val_score"
   ]
  },
  {
   "cell_type": "code",
   "execution_count": 11,
   "metadata": {},
   "outputs": [],
   "source": [
    "num_folds = 5\n",
    "skf = StratifiedKFold(n_splits=num_folds, shuffle=True, random_state=42)"
   ]
  },
  {
   "cell_type": "code",
   "execution_count": 12,
   "metadata": {},
   "outputs": [
    {
     "name": "stdout",
     "output_type": "stream",
     "text": [
      "Stratified Cross-Validation Results (Accuracy): [0.9966862  0.99668941 0.99668181 0.9967104  0.99670001]\n",
      "Mean Accuracy: 0.9966935679739233\n"
     ]
    }
   ],
   "source": [
    "st_cross_val_results = cross_val_score(xgb_model, X, y, cv=skf)\n",
    "print(f'Stratified Cross-Validation Results (Accuracy): {st_cross_val_results}')\n",
    "print(f'Mean Accuracy: {st_cross_val_results.mean()}')\n",
    "\n",
    "# Stratified Cross-Validation Results (Accuracy): [0.9966862  0.99668941 0.99668181 0.9967104  0.99670001]\n",
    "# Mean Accuracy: 0.9966935679739233"
   ]
  },
  {
   "cell_type": "code",
   "execution_count": 6,
   "metadata": {},
   "outputs": [],
   "source": [
    "train, test = train_test_split(data, test_size=0.2, random_state=42)"
   ]
  },
  {
   "cell_type": "code",
   "execution_count": 7,
   "metadata": {},
   "outputs": [],
   "source": [
    "train.to_csv('../Dataset/CIC_IOT_2023_20%_training_2',index=None)"
   ]
  },
  {
   "cell_type": "code",
   "execution_count": 8,
   "metadata": {},
   "outputs": [],
   "source": [
    "test.to_csv('../Dataset/CIC_IOT_2023_20%_testing_2.csv',index=None)"
   ]
  }
 ],
 "metadata": {
  "kernelspec": {
   "display_name": "torch_python_8",
   "language": "python",
   "name": "python3"
  },
  "language_info": {
   "codemirror_mode": {
    "name": "ipython",
    "version": 3
   },
   "file_extension": ".py",
   "mimetype": "text/x-python",
   "name": "python",
   "nbconvert_exporter": "python",
   "pygments_lexer": "ipython3",
   "version": "3.10.13"
  }
 },
 "nbformat": 4,
 "nbformat_minor": 2
}
