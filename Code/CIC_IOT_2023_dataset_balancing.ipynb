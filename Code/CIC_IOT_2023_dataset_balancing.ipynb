{
 "cells": [
  {
   "cell_type": "code",
   "execution_count": 1,
   "metadata": {},
   "outputs": [],
   "source": [
    "import pandas as pd\n",
    "from imblearn.over_sampling import SMOTE\n",
    "from imblearn.under_sampling import RandomUnderSampler\n",
    "from imblearn.combine import SMOTEENN\n",
    "from imblearn.pipeline import Pipeline\n",
    "from imblearn.under_sampling import NearMiss\n",
    "from imblearn.pipeline import make_pipeline"
   ]
  },
  {
   "cell_type": "code",
   "execution_count": 8,
   "metadata": {},
   "outputs": [],
   "source": [
    "# this function is only for dataset 1 (2 class)\n",
    "sm = SMOTE(random_state=42,sampling_strategy={0:1000000})\n",
    "rus = RandomUnderSampler(random_state=42,sampling_strategy={1:2000000})\n",
    "\n",
    "\n",
    "def different_train_test_1(training_file_name,partition_name):\n",
    "\n",
    "    train = pd.read_csv(training_file_name)\n",
    "\n",
    "    sm_enn =  make_pipeline(sm,rus)\n",
    "    X_train_over_under_sampled, Y_train_oversampled = sm_enn.fit_resample(train.drop(labels=[train.columns[-1]], axis=1),train[train.columns[-1]])\n",
    "    X_train_over_under_sampled['label'] = Y_train_oversampled\n",
    "    X_train_over_under_sampled.to_csv('../Dataset/'+partition_name+'_over_undersampled_train.csv', index = None)\n",
    "    print(len(X_train_over_under_sampled))"
   ]
  },
  {
   "cell_type": "code",
   "execution_count": 7,
   "metadata": {},
   "outputs": [
    {
     "name": "stdout",
     "output_type": "stream",
     "text": [
      "3000000\n"
     ]
    }
   ],
   "source": [
    "different_train_test_1('../Dataset/CIC_IOT_2023_80%_training_2','CIC_IOT_2023_balanced_2_class')"
   ]
  }
 ],
 "metadata": {
  "kernelspec": {
   "display_name": "torch_python_8",
   "language": "python",
   "name": "python3"
  },
  "language_info": {
   "codemirror_mode": {
    "name": "ipython",
    "version": 3
   },
   "file_extension": ".py",
   "mimetype": "text/x-python",
   "name": "python",
   "nbconvert_exporter": "python",
   "pygments_lexer": "ipython3",
   "version": "3.8.19"
  }
 },
 "nbformat": 4,
 "nbformat_minor": 2
}
